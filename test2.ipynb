{
 "cells": [
  {
   "cell_type": "code",
   "execution_count": 12,
   "id": "27bee1ab",
   "metadata": {},
   "outputs": [
    {
     "name": "stdout",
     "output_type": "stream",
     "text": [
      "A close-up studio shot of golden brown French fries piled artfully in a sleek, minimalist white bowl, casting soft shadows on a dark, textured surface. The lighting is bright and even, highlighting the crispy texture and subtle color variations of the potatoes, suitable for a sophisticated food magazine. Aspect ratio 4:3.\n",
      "\n"
     ]
    }
   ],
   "source": [
    "from google import genai\n",
    "from google.genai import types\n",
    "import matplotlib.pyplot as plt\n",
    "import matplotlib.image as mpimg\n",
    "from PIL import Image\n",
    "import os\n",
    "from io import BytesIO\n",
    "import base64\n",
    "\n",
    "client = genai.Client(\n",
    "    api_key=os.environ.get('GEMINI_BILLING_ACCOUNT', None),\n",
    ")\n",
    "\n",
    "contents = ('A professional studio photo of french fries for a high end restaurant, in the style of a food magazine (4:3 aspect ratio)')\n",
    "\n",
    "response = client.models.generate_content(\n",
    "    model=\"gemini-2.0-flash-preview-image-generation\",\n",
    "    contents=contents,\n",
    "    config=types.GenerateContentConfig(\n",
    "      response_modalities=['TEXT', 'IMAGE']\n",
    "    )\n",
    ")\n",
    "\n",
    "for part in response.candidates[0].content.parts:\n",
    "  if part.text is not None:\n",
    "    print(part.text)\n",
    "  elif part.inline_data is not None:\n",
    "    image = Image.open(BytesIO((part.inline_data.data)))\n",
    "    image.save('gemini-native-image.png')\n",
    "    image.show()\n"
   ]
  },
  {
   "cell_type": "code",
   "execution_count": 3,
   "id": "285657d7",
   "metadata": {},
   "outputs": [
    {
     "name": "stdout",
     "output_type": "stream",
     "text": [
      "This image depicts a pile of **French fries** on a white plate.\n"
     ]
    }
   ],
   "source": [
    "from PIL import Image\n",
    "from google import genai\n",
    "\n",
    "client = genai.Client(\n",
    "    api_key=os.environ.get('GEMINI_BILLING_ACCOUNT', None),\n",
    ")\n",
    "\n",
    "image = Image.open(\"gemini-native-image.png\")\n",
    "response = client.models.generate_content(\n",
    "    model=\"gemini-2.5-flash\",\n",
    "    contents=[image, \"What does this image depict?\"],\n",
    ")\n",
    "print(response.text)\n"
   ]
  },
  {
   "cell_type": "code",
   "execution_count": 11,
   "id": "65083f21",
   "metadata": {},
   "outputs": [
    {
     "name": "stdout",
     "output_type": "stream",
     "text": [
      "Waiting for video generation to complete...\n",
      "Waiting for video generation to complete...\n",
      "Waiting for video generation to complete...\n",
      "Waiting for video generation to complete...\n",
      "Waiting for video generation to complete...\n",
      "Generated video saved to realism_example_0.mp4\n",
      "Video generation process completed!\n"
     ]
    }
   ],
   "source": [
    "import time\n",
    "from google import genai\n",
    "import os\n",
    "from google.genai import types\n",
    "\n",
    "client = genai.Client(\n",
    "    api_key=os.environ.get('GEMINI_BILLING_ACCOUNT', None),\n",
    ")\n",
    "\n",
    "prompt = \"\"\"Drone shot following a classic red convertible driven by a man along a winding coastal road at sunset, waves crashing against the rocks below.\n",
    "The convertible accelerates fast and the engine roars loudly.\"\"\"\n",
    "\n",
    "operation = client.models.generate_videos(\n",
    "    model=\"veo-3.0-generate-preview\",\n",
    "    prompt=prompt,\n",
    ")\n",
    "\n",
    "# Poll the operation status until the video is ready\n",
    "while not operation.done:\n",
    "    print(\"Waiting for video generation to complete...\")\n",
    "    time.sleep(10)\n",
    "    operation = client.operations.get(operation)\n",
    "\n",
    "# The correct way to access generated videos according to the official docs\n",
    "# The response structure varies between Veo 2 and Veo 3\n",
    "try:\n",
    "    # For Veo 3 (your current model), the structure is different\n",
    "    # Check if it's the new response format\n",
    "    if 'generateVideoResponse' in operation.response:\n",
    "        # Veo 3 format\n",
    "        generated_samples = operation.response['generateVideoResponse']['generatedSamples']\n",
    "        for n, sample in enumerate(generated_samples):\n",
    "            video_uri = sample['video']['uri']\n",
    "            \n",
    "            # Download using authenticated request with API key\n",
    "            import requests\n",
    "            \n",
    "            # Append API key to the URI for authentication\n",
    "            api_key = os.environ.get('GEMINI_BILLING_ACCOUNT', None)\n",
    "            if api_key:\n",
    "                download_url = f\"{video_uri}&key={api_key}\"\n",
    "                \n",
    "                response = requests.get(download_url)\n",
    "                if response.status_code == 200:\n",
    "                    filename = f\"realism_example_{n}.mp4\"\n",
    "                    with open(filename, \"wb\") as f:\n",
    "                        f.write(response.content)\n",
    "                    print(f\"Generated video saved to {filename}\")\n",
    "                else:\n",
    "                    print(f\"Failed to download video {n}. Status code: {response.status_code}\")\n",
    "                    print(f\"Response: {response.text}\")\n",
    "            else:\n",
    "                print(\"API key not found. Cannot download video.\")\n",
    "                \n",
    "    else:\n",
    "        # Veo 2 format (from official docs)\n",
    "        for n, generated_video in enumerate(operation.response.generated_videos):\n",
    "            client.files.download(file=generated_video.video)\n",
    "            generated_video.video.save(f\"realism_example_{n}.mp4\")\n",
    "            print(f\"Generated video saved to realism_example_{n}.mp4\")\n",
    "\n",
    "except Exception as e:\n",
    "    print(f\"Error: {e}\")\n",
    "    print(\"Response structure:\", operation.response)\n",
    "    \n",
    "    # Fallback: try to manually extract and download\n",
    "    try:\n",
    "        if 'generateVideoResponse' in operation.response:\n",
    "            generated_samples = operation.response['generateVideoResponse']['generatedSamples']\n",
    "            for n, sample in enumerate(generated_samples):\n",
    "                video_uri = sample['video']['uri']\n",
    "                print(f\"Video {n} URI: {video_uri}\")\n",
    "                print(\"To download manually, append your API key: &key=YOUR_API_KEY\")\n",
    "    except:\n",
    "        print(\"Could not extract video URIs\")\n",
    "\n",
    "print(\"Video generation process completed!\")"
   ]
  }
 ],
 "metadata": {
  "kernelspec": {
   "display_name": "Python 3",
   "language": "python",
   "name": "python3"
  },
  "language_info": {
   "codemirror_mode": {
    "name": "ipython",
    "version": 3
   },
   "file_extension": ".py",
   "mimetype": "text/x-python",
   "name": "python",
   "nbconvert_exporter": "python",
   "pygments_lexer": "ipython3",
   "version": "3.12.0"
  }
 },
 "nbformat": 4,
 "nbformat_minor": 5
}
