{
 "cells": [
  {
   "cell_type": "code",
   "execution_count": 1,
   "id": "27bee1ab",
   "metadata": {},
   "outputs": [
    {
     "name": "stdout",
     "output_type": "stream",
     "text": [
      "I will generate a light watercolor illustration in a whimsical children's storybook style, depicting a vertical cross-section of a deep village stone well. The aged, uneven brick and stone interior will lead down to a dry, rough bottom where a worried, slightly chubby dark grey buffalo named Bubbly with small curved horns and big innocent eyes stands. Above, a traditional wooden pulley with a thick rope will be mounted on rustic posts. Peering down into the well will be a concerned young Indian boy named Bittu, around 10 years old with medium brown skin, short messy black hair, wearing a light blue shirt and brown shorts. The cutaway earth will be layered in soft browns and ochre, and the background will show distant village huts and sparse trees in light watercolor washes, creating a warm, inviting, and rustic scene.\n",
      "\n",
      "\n"
     ]
    }
   ],
   "source": [
    "from google import genai\n",
    "from google.genai import types\n",
    "import matplotlib.pyplot as plt\n",
    "import matplotlib.image as mpimg\n",
    "from PIL import Image\n",
    "import os\n",
    "from io import BytesIO\n",
    "import base64\n",
    "\n",
    "client = genai.Client(\n",
    "    api_key=os.environ.get('GEMINI_BILLING_ACCOUNT', None),\n",
    ")\n",
    "\n",
    "contents = ('''A hand-drawn, light watercolor illustration in a whimsical children's storybook style. The scene depicts a vertical cross-sectional (cutaway side view) of a slightly deeper-than-usual village stone well, revealing its full underground structure. The interior walls are made of aged, uneven bricks and worn stones, showing natural texture and history. The well extends deep underground, ending in a dry, rough floor with no water, emphasizing the buffalo’s predicament.\n",
    "\n",
    "At the top of the well, a traditional wooden pulley is securely mounted between two rustic vertical posts. A thick rope hangs from the pulley, stretching down into the well’s depths. The pulley is simple, weathered, and entirely in tune with a rural Indian village setting.\n",
    "\n",
    "At the bottom of the well, a dark grey buffalo named Bubbly stands, looking worried and helpless. The buffalo is slightly chubby, with small curved horns, big innocent eyes, and a gentle, unsure posture. It is illustrated with soft lines, rounded shapes, and light watercolor shading that adds warmth and emotion.\n",
    "\n",
    "Peering in from above the well, Bittu, a young Indian boy, is shown bending forward, curiously and anxiously looking down at Bubbly. He is about 10 years old, with medium brown skin, short, messy black hair, and is dressed in a light blue half-sleeve shirt and brown shorts. His full body is visible in the frame, naturally posed, with a soft and expressive face that captures his concern.\n",
    "\n",
    "The surrounding cutaway earth is softly layered with light brown and ochre tones, capturing the feel of natural soil. The background above ground includes a few distant village huts and sparse trees, lightly sketched in soft watercolor washes, keeping the mood peaceful and rustic.\n",
    "\n",
    "The overall illustration style is warm and inviting, with gentle outlines, soft pastel colors, light watercolor textures, and a storybook charm that brings emotion and narrative to the scene.''')\n",
    "\n",
    "response = client.models.generate_content(\n",
    "    model=\"gemini-2.0-flash-preview-image-generation\",\n",
    "    contents=contents,\n",
    "    config=types.GenerateContentConfig(\n",
    "      response_modalities=['TEXT', 'IMAGE']\n",
    "    )\n",
    ")\n",
    "\n",
    "for part in response.candidates[0].content.parts:\n",
    "  if part.text is not None:\n",
    "    print(part.text)\n",
    "  elif part.inline_data is not None:\n",
    "    image = Image.open(BytesIO((part.inline_data.data)))\n",
    "    image.save('gemini-native-image.png')\n",
    "    image.show()\n"
   ]
  },
  {
   "cell_type": "code",
   "execution_count": 3,
   "id": "285657d7",
   "metadata": {},
   "outputs": [
    {
     "name": "stdout",
     "output_type": "stream",
     "text": [
      "This image depicts a pile of **French fries** on a white plate.\n"
     ]
    }
   ],
   "source": [
    "from PIL import Image\n",
    "from google import genai\n",
    "\n",
    "client = genai.Client(\n",
    "    api_key=os.environ.get('GEMINI_BILLING_ACCOUNT', None),\n",
    ")\n",
    "\n",
    "image = Image.open(\"gemini-native-image.png\")\n",
    "response = client.models.generate_content(\n",
    "    model=\"gemini-2.5-flash\",\n",
    "    contents=[image, \"What does this image depict?\"],\n",
    ")\n",
    "print(response.text)\n"
   ]
  },
  {
   "cell_type": "code",
   "execution_count": 11,
   "id": "65083f21",
   "metadata": {},
   "outputs": [
    {
     "name": "stdout",
     "output_type": "stream",
     "text": [
      "Waiting for video generation to complete...\n",
      "Waiting for video generation to complete...\n",
      "Waiting for video generation to complete...\n",
      "Waiting for video generation to complete...\n",
      "Waiting for video generation to complete...\n",
      "Generated video saved to realism_example_0.mp4\n",
      "Video generation process completed!\n"
     ]
    }
   ],
   "source": [
    "import time\n",
    "from google import genai\n",
    "import os\n",
    "from google.genai import types\n",
    "\n",
    "client = genai.Client(\n",
    "    api_key=os.environ.get('GEMINI_BILLING_ACCOUNT', None),\n",
    ")\n",
    "\n",
    "prompt = \"\"\"Drone shot following a classic red convertible driven by a man along a winding coastal road at sunset, waves crashing against the rocks below.\n",
    "The convertible accelerates fast and the engine roars loudly.\"\"\"\n",
    "\n",
    "operation = client.models.generate_videos(\n",
    "    model=\"veo-3.0-generate-preview\",\n",
    "    prompt=prompt,\n",
    ")\n",
    "\n",
    "# Poll the operation status until the video is ready\n",
    "while not operation.done:\n",
    "    print(\"Waiting for video generation to complete...\")\n",
    "    time.sleep(10)\n",
    "    operation = client.operations.get(operation)\n",
    "\n",
    "# The correct way to access generated videos according to the official docs\n",
    "# The response structure varies between Veo 2 and Veo 3\n",
    "try:\n",
    "    # For Veo 3 (your current model), the structure is different\n",
    "    # Check if it's the new response format\n",
    "    if 'generateVideoResponse' in operation.response:\n",
    "        # Veo 3 format\n",
    "        generated_samples = operation.response['generateVideoResponse']['generatedSamples']\n",
    "        for n, sample in enumerate(generated_samples):\n",
    "            video_uri = sample['video']['uri']\n",
    "            \n",
    "            # Download using authenticated request with API key\n",
    "            import requests\n",
    "            \n",
    "            # Append API key to the URI for authentication\n",
    "            api_key = os.environ.get('GEMINI_BILLING_ACCOUNT', None)\n",
    "            if api_key:\n",
    "                download_url = f\"{video_uri}&key={api_key}\"\n",
    "                \n",
    "                response = requests.get(download_url)\n",
    "                if response.status_code == 200:\n",
    "                    filename = f\"realism_example_{n}.mp4\"\n",
    "                    with open(filename, \"wb\") as f:\n",
    "                        f.write(response.content)\n",
    "                    print(f\"Generated video saved to {filename}\")\n",
    "                else:\n",
    "                    print(f\"Failed to download video {n}. Status code: {response.status_code}\")\n",
    "                    print(f\"Response: {response.text}\")\n",
    "            else:\n",
    "                print(\"API key not found. Cannot download video.\")\n",
    "                \n",
    "    else:\n",
    "        # Veo 2 format (from official docs)\n",
    "        for n, generated_video in enumerate(operation.response.generated_videos):\n",
    "            client.files.download(file=generated_video.video)\n",
    "            generated_video.video.save(f\"realism_example_{n}.mp4\")\n",
    "            print(f\"Generated video saved to realism_example_{n}.mp4\")\n",
    "\n",
    "except Exception as e:\n",
    "    print(f\"Error: {e}\")\n",
    "    print(\"Response structure:\", operation.response)\n",
    "    \n",
    "    # Fallback: try to manually extract and download\n",
    "    try:\n",
    "        if 'generateVideoResponse' in operation.response:\n",
    "            generated_samples = operation.response['generateVideoResponse']['generatedSamples']\n",
    "            for n, sample in enumerate(generated_samples):\n",
    "                video_uri = sample['video']['uri']\n",
    "                print(f\"Video {n} URI: {video_uri}\")\n",
    "                print(\"To download manually, append your API key: &key=YOUR_API_KEY\")\n",
    "    except:\n",
    "        print(\"Could not extract video URIs\")\n",
    "\n",
    "print(\"Video generation process completed!\")"
   ]
  }
 ],
 "metadata": {
  "kernelspec": {
   "display_name": "Python 3",
   "language": "python",
   "name": "python3"
  },
  "language_info": {
   "codemirror_mode": {
    "name": "ipython",
    "version": 3
   },
   "file_extension": ".py",
   "mimetype": "text/x-python",
   "name": "python",
   "nbconvert_exporter": "python",
   "pygments_lexer": "ipython3",
   "version": "3.12.0"
  }
 },
 "nbformat": 4,
 "nbformat_minor": 5
}
